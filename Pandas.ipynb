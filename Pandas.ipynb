{
  "cells": [
    {
      "cell_type": "code",
      "execution_count": null,
      "metadata": {
        "id": "7ztOkKLm9JCk"
      },
      "outputs": [],
      "source": [
        "import pandas as pd"
      ]
    },
    {
      "cell_type": "markdown",
      "metadata": {
        "id": "G3IIhz_j9JCp"
      },
      "source": [
        "Pandas\n",
        "1. Creating DataFrames"
      ]
    },
    {
      "cell_type": "code",
      "execution_count": null,
      "metadata": {
        "id": "envG7-WfbVUw"
      },
      "outputs": [],
      "source": [
        "# From a dictionary\n",
        "df = pd.DataFrame({'A': [1, 2], 'B': [3, 4]})"
      ]
    },
    {
      "cell_type": "code",
      "execution_count": null,
      "metadata": {
        "id": "52ZF980r9JCr"
      },
      "outputs": [],
      "source": [
        "# From a CSV/Excel file\n",
        "df = pd.read_csv('file.csv')  # Read CSV\n",
        "df = pd.read_excel('file.xlsx', sheet_name='Sheet1')  # Read Excel"
      ]
    },
    {
      "cell_type": "markdown",
      "metadata": {
        "id": "ZRw95IGF9JCs"
      },
      "source": [
        "2. Basic Operations"
      ]
    },
    {
      "cell_type": "code",
      "execution_count": null,
      "metadata": {
        "id": "JuKG3Ung9JCt"
      },
      "outputs": [],
      "source": [
        "df.head(n=5)            # First n rows\n",
        "df.tail(n=5)            # Last n rows\n",
        "df.info()               # DataFrame summary\n",
        "df.describe()           # Summary stats for numerical columns\n",
        "df.shape                # Dimensions of DataFrame (rows, columns)\n",
        "df.columns              # List column names\n",
        "df.dtypes               # Column data types\n",
        "df['A'].unique()        # Unique values in column A\n",
        "df['A'].nunique()       # Count of Unique values\n",
        "df['A'].value_counts()  # Count of each values\n",
        "df.isnull().sum()       # Count NaNs in each column\n",
        "df['points'].skew()     # Identify skewness"
      ]
    },
    {
      "cell_type": "markdown",
      "metadata": {
        "id": "_kqVUHuC9JCt"
      },
      "source": [
        "3. Data Cleaning"
      ]
    },
    {
      "cell_type": "code",
      "execution_count": null,
      "metadata": {
        "id": "VwEMZXFi9JCu"
      },
      "outputs": [],
      "source": [
        "# Filling or dropping NaNs\n",
        "df.fillna(0, inplace=True)    # Replace NaNs with 0\n",
        "df.dropna(inplace=True)       # Drop rows with NaNs\n",
        "\n",
        "# Renaming columns\n",
        "df.rename(columns={'A': 'Column1'}, inplace=True)\n",
        "\n",
        "# Changing data types\n",
        "df['A'] = df['A'].astype(int)  # Convert column to integer\n",
        "df['D'] = pd.to_datetime(df['D']) # Convert column to datetime"
      ]
    },
    {
      "cell_type": "markdown",
      "metadata": {
        "id": "45n00JZE9JCu"
      },
      "source": [
        "4. Filtering & Selection"
      ]
    },
    {
      "cell_type": "code",
      "execution_count": null,
      "metadata": {
        "id": "H_P3dRRUiuUG"
      },
      "outputs": [],
      "source": [
        "# Select columns\n",
        "df[['A', 'B']]               # Select multiple columns\n",
        "df.loc[:, 'A':'C']           # Select by columns name\n",
        "df.iloc[0:11, 0:3]           # Select by columns index"
      ]
    },
    {
      "cell_type": "code",
      "execution_count": null,
      "metadata": {
        "id": "LwPNL3hd9JCv"
      },
      "outputs": [],
      "source": [
        "# Filter rows\n",
        "df[df['A'] > 5]              # Rows where column A > 5\n",
        "df.query('A > 5 and B < 10') # Query-based filtering"
      ]
    },
    {
      "cell_type": "code",
      "execution_count": null,
      "metadata": {
        "id": "nnYewKzHjL5S"
      },
      "outputs": [],
      "source": [
        "# Conditional columns\n",
        "df['New_Col'] = df['A'] * df['B']  # Add new column\n",
        "df['lower_name'] = df['name'].str.lower()\n",
        "df[['first_name','last_name']] = df['full_name'].str.split(' ',expand=True)"
      ]
    },
    {
      "cell_type": "code",
      "execution_count": null,
      "metadata": {
        "id": "AFA4V4Ptke5c"
      },
      "outputs": [],
      "source": [
        "# Plot\n",
        "df['A'].hist() # histogram\n",
        "df.boxplot('A') # boxplot\n",
        "df['A'].value_counts().plot(kind='bar') # bar plot\n",
        "df.set_index('date')['sales'].plot() # Time series"
      ]
    },
    {
      "cell_type": "markdown",
      "metadata": {
        "id": "w5Oqgw4S9JCv"
      },
      "source": [
        "5. Groupby and Aggregation"
      ]
    },
    {
      "cell_type": "code",
      "execution_count": null,
      "metadata": {
        "id": "QtEQdqZ19JCv"
      },
      "outputs": [],
      "source": [
        "df.groupby('A')['B'].mean()          # Group by A, aggregate B\n",
        "df.groupby('c3f').agg(\n",
        "    max_c2=('c1', 'max'),\n",
        "    min_c2=('c1', 'min'),\n",
        "    sum_c3=('c3', 'sum'),\n",
        "    mean_c3=('c3', 'mean')\n",
        ").reset_index() # Multi-agg"
      ]
    },
    {
      "cell_type": "code",
      "execution_count": null,
      "metadata": {
        "id": "1T4hpprCCBCF"
      },
      "outputs": [],
      "source": [
        "# Function    Description\n",
        "# sum()       Sum of values\n",
        "# mean()      Mean (average) value\n",
        "# median()    Median value\n",
        "# min()       Minimum value\n",
        "# max()       Maximum value\n",
        "# std()       Standard deviation\n",
        "# var()       Variance\n",
        "# count()     Count of non-null values\n",
        "# nunique()   Number of unique values\n",
        "# first()     First value\n",
        "# last()      Last value\n",
        "# mode()      Most frequent value(s)"
      ]
    },
    {
      "cell_type": "markdown",
      "metadata": {
        "id": "Hm-HYmBU9JCw"
      },
      "source": [
        "6. Merging and Joining"
      ]
    },
    {
      "cell_type": "code",
      "execution_count": null,
      "metadata": {
        "id": "55DKJrPh9JCw"
      },
      "outputs": [],
      "source": [
        "pd.concat([df1, df2], axis=0)           # Append rows\n",
        "pd.concat([df1, df2], axis=1)           # Concatenate columns"
      ]
    },
    {
      "cell_type": "code",
      "execution_count": null,
      "metadata": {
        "id": "yboyyouirBCb"
      },
      "outputs": [],
      "source": [
        "pd.merge(df1,df2, on='id', how='inner')\n",
        "pd.merge(df1,df2, left_on='l_id',right_on='r_id', how='left')\n",
        "pd.merge(df1,df2, left_on='l_id',right_on='r_id', how='right')\n",
        "pd.merge(df1,df2, left_on='l_id',right_on='r_id', how='outer', indicator=True)"
      ]
    },
    {
      "cell_type": "markdown",
      "metadata": {
        "id": "_Gjolddf9JCw"
      },
      "source": [
        "7. Exporting"
      ]
    },
    {
      "cell_type": "code",
      "execution_count": null,
      "metadata": {
        "id": "2xIurjy29JCw"
      },
      "outputs": [],
      "source": [
        "df.to_csv('output.csv', index=False)\n",
        "df.to_excel('output.xlsx', index=False)"
      ]
    },
    {
      "cell_type": "markdown",
      "metadata": {
        "id": "I054Okwb9JCw"
      },
      "source": [
        "8. Sorting"
      ]
    },
    {
      "cell_type": "code",
      "execution_count": null,
      "metadata": {
        "id": "-O1YDcqJ9JCw"
      },
      "outputs": [],
      "source": [
        "df.sort_values('A', ascending=True)   # Sort by column A\n",
        "df.sort_index(ascending=False)        # Sort by index"
      ]
    },
    {
      "cell_type": "markdown",
      "metadata": {
        "id": "M-O-8ne59JCx"
      },
      "source": [
        "9. Pivot Tables"
      ]
    },
    {
      "cell_type": "code",
      "execution_count": null,
      "metadata": {
        "id": "B_QXnDgN9JCx"
      },
      "outputs": [],
      "source": [
        "df.pivot_table(index='A', columns='B', values='C', aggfunc='sum')  # Create pivot table"
      ]
    },
    {
      "cell_type": "markdown",
      "metadata": {
        "id": "2x_5PYyn9JCx"
      },
      "source": [
        "10. Handling Duplicates"
      ]
    },
    {
      "cell_type": "code",
      "execution_count": null,
      "metadata": {
        "id": "Z9caDUsw9JCx"
      },
      "outputs": [],
      "source": [
        "df.duplicated()                      # Boolean Series for duplicates\n",
        "df.drop_duplicates(inplace=True)     # Drop duplicate rows\n",
        "df[df.duplicated()]                  # Detect duplicates"
      ]
    },
    {
      "cell_type": "markdown",
      "metadata": {
        "id": "8DNf4CDT9JCx"
      },
      "source": [
        "11. Date and Time Operations"
      ]
    },
    {
      "cell_type": "code",
      "execution_count": null,
      "metadata": {
        "id": "ve-3oBVC9JCx"
      },
      "outputs": [],
      "source": [
        "df['date'] = pd.to_datetime(df['date'])   # Convert to datetime\n",
        "df['year'] = df['date'].dt.year          # Extract year\n",
        "df['month'] = df['date'].dt.month        # Extract month\n",
        "df['day'] = df['date'].dt.day            # Extract day\n",
        "df['weekday'] = df['date'].dt.day_name   # Extract day of week"
      ]
    },
    {
      "cell_type": "markdown",
      "metadata": {
        "id": "oO18cHuy9JCx"
      },
      "source": [
        "12. MultiIndex"
      ]
    },
    {
      "cell_type": "code",
      "execution_count": null,
      "metadata": {
        "id": "M9BRcc0S9JCx"
      },
      "outputs": [],
      "source": [
        "df = df.set_index(['A', 'B'])             # Set multi-level index\n",
        "df.reset_index(drop=True)                          # Reset index"
      ]
    },
    {
      "cell_type": "markdown",
      "metadata": {
        "id": "_VNnCEpQ9JCy"
      },
      "source": [
        "13. Window Functions"
      ]
    },
    {
      "cell_type": "code",
      "execution_count": null,
      "metadata": {
        "id": "D7Bt-WZ89JCy"
      },
      "outputs": [],
      "source": [
        "df['rolling_mean'] = df['A'].rolling(window=3).mean()  # Rolling mean\n",
        "df['running_sum'] = df['A'].expanding().sum()          # Expanding sum\n",
        "df['cum_sum'] = df.groupby('region')['A'].cumsum()     # cumulative sum partition by region"
      ]
    },
    {
      "cell_type": "code",
      "execution_count": null,
      "metadata": {
        "id": "ul3KsxUJgdj8"
      },
      "outputs": [],
      "source": [
        "# without partition\n",
        "df=df.sort_values('A',ascending=False).reset_index(drop=True)\n",
        "df['RN'] = df.index+1 # Row_Number\n",
        "df['RN'] = df['A'].rank(method='min',ascending=False) # Rank\n",
        "df['RN'] = df['A'].rank(method='dense',ascending=False) # Dense_Rank"
      ]
    },
    {
      "cell_type": "code",
      "execution_count": null,
      "metadata": {
        "id": "75sVDecQghsf"
      },
      "outputs": [],
      "source": [
        "# with partition\n",
        "df['RN'] = df.groupby('region').cumcount()+1 # Row_Number\n",
        "df['RN'] = df.groupby('region')['A'].rank(method='min',ascending=False) # Rank\n",
        "df['RN'] = df.groupby('region')['A'].rank(method='dense',ascending=False) # Dense_Rank"
      ]
    },
    {
      "cell_type": "markdown",
      "metadata": {
        "id": "1__WeIxK9JCy"
      },
      "source": [
        "14. Advanced Aggregation"
      ]
    },
    {
      "cell_type": "code",
      "execution_count": null,
      "metadata": {
        "id": "f9gOQSvl9JCy"
      },
      "outputs": [],
      "source": [
        "df.groupby('A').transform('sum')         # Transform group values\n",
        "df.groupby('A').apply(lambda x: x.head(1))  # Apply custom functions"
      ]
    },
    {
      "cell_type": "markdown",
      "metadata": {
        "id": "D3GFaRQV9JCy"
      },
      "source": [
        "Advanced Use Cases for Pandas\n",
        "1. Custom Grouping Logic\n",
        "You can use a custom function for grouping:"
      ]
    },
    {
      "cell_type": "code",
      "execution_count": null,
      "metadata": {
        "id": "iOnzhQLQ9JCy"
      },
      "outputs": [],
      "source": [
        "def custom_group(x):\n",
        "    if x < 10:\n",
        "        return 'Low'\n",
        "    elif x < 20:\n",
        "        return 'Medium'\n",
        "    else:\n",
        "        return 'High'\n",
        "\n",
        "df['Group'] = df['A'].apply(custom_group)\n",
        "grouped = df.groupby('Group').sum()"
      ]
    },
    {
      "cell_type": "markdown",
      "metadata": {
        "id": "WNVNslx29JCy"
      },
      "source": [
        "2. Chaining Methods\n",
        "Write concise and readable code by chaining methods:"
      ]
    },
    {
      "cell_type": "code",
      "execution_count": null,
      "metadata": {
        "id": "xYhKObOy9JCy"
      },
      "outputs": [],
      "source": [
        "result = (\n",
        "    df.query('A > 5')\n",
        "      .assign(B=lambda x: x['A'] * 2)\n",
        "      .groupby('C')\n",
        "      .agg({'B': 'sum', 'A': 'mean'})\n",
        "      .reset_index()\n",
        ")"
      ]
    },
    {
      "cell_type": "markdown",
      "metadata": {
        "id": "rDuaTGd_9JCy"
      },
      "source": [
        "3. Exploding and Flattening Data\n",
        "Handle lists within columns:"
      ]
    },
    {
      "cell_type": "code",
      "execution_count": null,
      "metadata": {
        "id": "t6Aj_fnp9JCz"
      },
      "outputs": [],
      "source": [
        "df = pd.DataFrame({'A': [1, 2], 'B': [[1, 2], [3, 4]]})\n",
        "df = df.explode('B')  # Split list into multiple rows"
      ]
    },
    {
      "cell_type": "code",
      "execution_count": null,
      "metadata": {
        "colab": {
          "base_uri": "https://localhost:8080/",
          "height": 175
        },
        "id": "RmMco7PgdqoX",
        "outputId": "27c23c09-1e5f-4ec4-9be5-836218171167"
      },
      "outputs": [
        {
          "data": {
            "application/vnd.google.colaboratory.intrinsic+json": {
              "summary": "{\n  \"name\": \"df\",\n  \"rows\": 4,\n  \"fields\": [\n    {\n      \"column\": \"A\",\n      \"properties\": {\n        \"dtype\": \"number\",\n        \"std\": 0,\n        \"min\": 1,\n        \"max\": 2,\n        \"num_unique_values\": 2,\n        \"samples\": [\n          2,\n          1\n        ],\n        \"semantic_type\": \"\",\n        \"description\": \"\"\n      }\n    },\n    {\n      \"column\": \"B\",\n      \"properties\": {\n        \"dtype\": \"date\",\n        \"min\": 1,\n        \"max\": 4,\n        \"num_unique_values\": 4,\n        \"samples\": [\n          2,\n          4\n        ],\n        \"semantic_type\": \"\",\n        \"description\": \"\"\n      }\n    }\n  ]\n}",
              "type": "dataframe",
              "variable_name": "df"
            },
            "text/html": [
              "\n",
              "  <div id=\"df-f36b830f-0b5b-4db9-8fa7-fd1af8e43099\" class=\"colab-df-container\">\n",
              "    <div>\n",
              "<style scoped>\n",
              "    .dataframe tbody tr th:only-of-type {\n",
              "        vertical-align: middle;\n",
              "    }\n",
              "\n",
              "    .dataframe tbody tr th {\n",
              "        vertical-align: top;\n",
              "    }\n",
              "\n",
              "    .dataframe thead th {\n",
              "        text-align: right;\n",
              "    }\n",
              "</style>\n",
              "<table border=\"1\" class=\"dataframe\">\n",
              "  <thead>\n",
              "    <tr style=\"text-align: right;\">\n",
              "      <th></th>\n",
              "      <th>A</th>\n",
              "      <th>B</th>\n",
              "    </tr>\n",
              "  </thead>\n",
              "  <tbody>\n",
              "    <tr>\n",
              "      <th>0</th>\n",
              "      <td>1</td>\n",
              "      <td>1</td>\n",
              "    </tr>\n",
              "    <tr>\n",
              "      <th>0</th>\n",
              "      <td>1</td>\n",
              "      <td>2</td>\n",
              "    </tr>\n",
              "    <tr>\n",
              "      <th>1</th>\n",
              "      <td>2</td>\n",
              "      <td>3</td>\n",
              "    </tr>\n",
              "    <tr>\n",
              "      <th>1</th>\n",
              "      <td>2</td>\n",
              "      <td>4</td>\n",
              "    </tr>\n",
              "  </tbody>\n",
              "</table>\n",
              "</div>\n",
              "    <div class=\"colab-df-buttons\">\n",
              "\n",
              "  <div class=\"colab-df-container\">\n",
              "    <button class=\"colab-df-convert\" onclick=\"convertToInteractive('df-f36b830f-0b5b-4db9-8fa7-fd1af8e43099')\"\n",
              "            title=\"Convert this dataframe to an interactive table.\"\n",
              "            style=\"display:none;\">\n",
              "\n",
              "  <svg xmlns=\"http://www.w3.org/2000/svg\" height=\"24px\" viewBox=\"0 -960 960 960\">\n",
              "    <path d=\"M120-120v-720h720v720H120Zm60-500h600v-160H180v160Zm220 220h160v-160H400v160Zm0 220h160v-160H400v160ZM180-400h160v-160H180v160Zm440 0h160v-160H620v160ZM180-180h160v-160H180v160Zm440 0h160v-160H620v160Z\"/>\n",
              "  </svg>\n",
              "    </button>\n",
              "\n",
              "  <style>\n",
              "    .colab-df-container {\n",
              "      display:flex;\n",
              "      gap: 12px;\n",
              "    }\n",
              "\n",
              "    .colab-df-convert {\n",
              "      background-color: #E8F0FE;\n",
              "      border: none;\n",
              "      border-radius: 50%;\n",
              "      cursor: pointer;\n",
              "      display: none;\n",
              "      fill: #1967D2;\n",
              "      height: 32px;\n",
              "      padding: 0 0 0 0;\n",
              "      width: 32px;\n",
              "    }\n",
              "\n",
              "    .colab-df-convert:hover {\n",
              "      background-color: #E2EBFA;\n",
              "      box-shadow: 0px 1px 2px rgba(60, 64, 67, 0.3), 0px 1px 3px 1px rgba(60, 64, 67, 0.15);\n",
              "      fill: #174EA6;\n",
              "    }\n",
              "\n",
              "    .colab-df-buttons div {\n",
              "      margin-bottom: 4px;\n",
              "    }\n",
              "\n",
              "    [theme=dark] .colab-df-convert {\n",
              "      background-color: #3B4455;\n",
              "      fill: #D2E3FC;\n",
              "    }\n",
              "\n",
              "    [theme=dark] .colab-df-convert:hover {\n",
              "      background-color: #434B5C;\n",
              "      box-shadow: 0px 1px 3px 1px rgba(0, 0, 0, 0.15);\n",
              "      filter: drop-shadow(0px 1px 2px rgba(0, 0, 0, 0.3));\n",
              "      fill: #FFFFFF;\n",
              "    }\n",
              "  </style>\n",
              "\n",
              "    <script>\n",
              "      const buttonEl =\n",
              "        document.querySelector('#df-f36b830f-0b5b-4db9-8fa7-fd1af8e43099 button.colab-df-convert');\n",
              "      buttonEl.style.display =\n",
              "        google.colab.kernel.accessAllowed ? 'block' : 'none';\n",
              "\n",
              "      async function convertToInteractive(key) {\n",
              "        const element = document.querySelector('#df-f36b830f-0b5b-4db9-8fa7-fd1af8e43099');\n",
              "        const dataTable =\n",
              "          await google.colab.kernel.invokeFunction('convertToInteractive',\n",
              "                                                    [key], {});\n",
              "        if (!dataTable) return;\n",
              "\n",
              "        const docLinkHtml = 'Like what you see? Visit the ' +\n",
              "          '<a target=\"_blank\" href=https://colab.research.google.com/notebooks/data_table.ipynb>data table notebook</a>'\n",
              "          + ' to learn more about interactive tables.';\n",
              "        element.innerHTML = '';\n",
              "        dataTable['output_type'] = 'display_data';\n",
              "        await google.colab.output.renderOutput(dataTable, element);\n",
              "        const docLink = document.createElement('div');\n",
              "        docLink.innerHTML = docLinkHtml;\n",
              "        element.appendChild(docLink);\n",
              "      }\n",
              "    </script>\n",
              "  </div>\n",
              "\n",
              "\n",
              "    <div id=\"df-7a6bed0a-0e53-4fb2-b87a-27ed04d99bff\">\n",
              "      <button class=\"colab-df-quickchart\" onclick=\"quickchart('df-7a6bed0a-0e53-4fb2-b87a-27ed04d99bff')\"\n",
              "                title=\"Suggest charts\"\n",
              "                style=\"display:none;\">\n",
              "\n",
              "<svg xmlns=\"http://www.w3.org/2000/svg\" height=\"24px\"viewBox=\"0 0 24 24\"\n",
              "     width=\"24px\">\n",
              "    <g>\n",
              "        <path d=\"M19 3H5c-1.1 0-2 .9-2 2v14c0 1.1.9 2 2 2h14c1.1 0 2-.9 2-2V5c0-1.1-.9-2-2-2zM9 17H7v-7h2v7zm4 0h-2V7h2v10zm4 0h-2v-4h2v4z\"/>\n",
              "    </g>\n",
              "</svg>\n",
              "      </button>\n",
              "\n",
              "<style>\n",
              "  .colab-df-quickchart {\n",
              "      --bg-color: #E8F0FE;\n",
              "      --fill-color: #1967D2;\n",
              "      --hover-bg-color: #E2EBFA;\n",
              "      --hover-fill-color: #174EA6;\n",
              "      --disabled-fill-color: #AAA;\n",
              "      --disabled-bg-color: #DDD;\n",
              "  }\n",
              "\n",
              "  [theme=dark] .colab-df-quickchart {\n",
              "      --bg-color: #3B4455;\n",
              "      --fill-color: #D2E3FC;\n",
              "      --hover-bg-color: #434B5C;\n",
              "      --hover-fill-color: #FFFFFF;\n",
              "      --disabled-bg-color: #3B4455;\n",
              "      --disabled-fill-color: #666;\n",
              "  }\n",
              "\n",
              "  .colab-df-quickchart {\n",
              "    background-color: var(--bg-color);\n",
              "    border: none;\n",
              "    border-radius: 50%;\n",
              "    cursor: pointer;\n",
              "    display: none;\n",
              "    fill: var(--fill-color);\n",
              "    height: 32px;\n",
              "    padding: 0;\n",
              "    width: 32px;\n",
              "  }\n",
              "\n",
              "  .colab-df-quickchart:hover {\n",
              "    background-color: var(--hover-bg-color);\n",
              "    box-shadow: 0 1px 2px rgba(60, 64, 67, 0.3), 0 1px 3px 1px rgba(60, 64, 67, 0.15);\n",
              "    fill: var(--button-hover-fill-color);\n",
              "  }\n",
              "\n",
              "  .colab-df-quickchart-complete:disabled,\n",
              "  .colab-df-quickchart-complete:disabled:hover {\n",
              "    background-color: var(--disabled-bg-color);\n",
              "    fill: var(--disabled-fill-color);\n",
              "    box-shadow: none;\n",
              "  }\n",
              "\n",
              "  .colab-df-spinner {\n",
              "    border: 2px solid var(--fill-color);\n",
              "    border-color: transparent;\n",
              "    border-bottom-color: var(--fill-color);\n",
              "    animation:\n",
              "      spin 1s steps(1) infinite;\n",
              "  }\n",
              "\n",
              "  @keyframes spin {\n",
              "    0% {\n",
              "      border-color: transparent;\n",
              "      border-bottom-color: var(--fill-color);\n",
              "      border-left-color: var(--fill-color);\n",
              "    }\n",
              "    20% {\n",
              "      border-color: transparent;\n",
              "      border-left-color: var(--fill-color);\n",
              "      border-top-color: var(--fill-color);\n",
              "    }\n",
              "    30% {\n",
              "      border-color: transparent;\n",
              "      border-left-color: var(--fill-color);\n",
              "      border-top-color: var(--fill-color);\n",
              "      border-right-color: var(--fill-color);\n",
              "    }\n",
              "    40% {\n",
              "      border-color: transparent;\n",
              "      border-right-color: var(--fill-color);\n",
              "      border-top-color: var(--fill-color);\n",
              "    }\n",
              "    60% {\n",
              "      border-color: transparent;\n",
              "      border-right-color: var(--fill-color);\n",
              "    }\n",
              "    80% {\n",
              "      border-color: transparent;\n",
              "      border-right-color: var(--fill-color);\n",
              "      border-bottom-color: var(--fill-color);\n",
              "    }\n",
              "    90% {\n",
              "      border-color: transparent;\n",
              "      border-bottom-color: var(--fill-color);\n",
              "    }\n",
              "  }\n",
              "</style>\n",
              "\n",
              "      <script>\n",
              "        async function quickchart(key) {\n",
              "          const quickchartButtonEl =\n",
              "            document.querySelector('#' + key + ' button');\n",
              "          quickchartButtonEl.disabled = true;  // To prevent multiple clicks.\n",
              "          quickchartButtonEl.classList.add('colab-df-spinner');\n",
              "          try {\n",
              "            const charts = await google.colab.kernel.invokeFunction(\n",
              "                'suggestCharts', [key], {});\n",
              "          } catch (error) {\n",
              "            console.error('Error during call to suggestCharts:', error);\n",
              "          }\n",
              "          quickchartButtonEl.classList.remove('colab-df-spinner');\n",
              "          quickchartButtonEl.classList.add('colab-df-quickchart-complete');\n",
              "        }\n",
              "        (() => {\n",
              "          let quickchartButtonEl =\n",
              "            document.querySelector('#df-7a6bed0a-0e53-4fb2-b87a-27ed04d99bff button');\n",
              "          quickchartButtonEl.style.display =\n",
              "            google.colab.kernel.accessAllowed ? 'block' : 'none';\n",
              "        })();\n",
              "      </script>\n",
              "    </div>\n",
              "\n",
              "  <div id=\"id_15ffe1b9-c5e3-464f-8422-880336dbcf1d\">\n",
              "    <style>\n",
              "      .colab-df-generate {\n",
              "        background-color: #E8F0FE;\n",
              "        border: none;\n",
              "        border-radius: 50%;\n",
              "        cursor: pointer;\n",
              "        display: none;\n",
              "        fill: #1967D2;\n",
              "        height: 32px;\n",
              "        padding: 0 0 0 0;\n",
              "        width: 32px;\n",
              "      }\n",
              "\n",
              "      .colab-df-generate:hover {\n",
              "        background-color: #E2EBFA;\n",
              "        box-shadow: 0px 1px 2px rgba(60, 64, 67, 0.3), 0px 1px 3px 1px rgba(60, 64, 67, 0.15);\n",
              "        fill: #174EA6;\n",
              "      }\n",
              "\n",
              "      [theme=dark] .colab-df-generate {\n",
              "        background-color: #3B4455;\n",
              "        fill: #D2E3FC;\n",
              "      }\n",
              "\n",
              "      [theme=dark] .colab-df-generate:hover {\n",
              "        background-color: #434B5C;\n",
              "        box-shadow: 0px 1px 3px 1px rgba(0, 0, 0, 0.15);\n",
              "        filter: drop-shadow(0px 1px 2px rgba(0, 0, 0, 0.3));\n",
              "        fill: #FFFFFF;\n",
              "      }\n",
              "    </style>\n",
              "    <button class=\"colab-df-generate\" onclick=\"generateWithVariable('df')\"\n",
              "            title=\"Generate code using this dataframe.\"\n",
              "            style=\"display:none;\">\n",
              "\n",
              "  <svg xmlns=\"http://www.w3.org/2000/svg\" height=\"24px\"viewBox=\"0 0 24 24\"\n",
              "       width=\"24px\">\n",
              "    <path d=\"M7,19H8.4L18.45,9,17,7.55,7,17.6ZM5,21V16.75L18.45,3.32a2,2,0,0,1,2.83,0l1.4,1.43a1.91,1.91,0,0,1,.58,1.4,1.91,1.91,0,0,1-.58,1.4L9.25,21ZM18.45,9,17,7.55Zm-12,3A5.31,5.31,0,0,0,4.9,8.1,5.31,5.31,0,0,0,1,6.5,5.31,5.31,0,0,0,4.9,4.9,5.31,5.31,0,0,0,6.5,1,5.31,5.31,0,0,0,8.1,4.9,5.31,5.31,0,0,0,12,6.5,5.46,5.46,0,0,0,6.5,12Z\"/>\n",
              "  </svg>\n",
              "    </button>\n",
              "    <script>\n",
              "      (() => {\n",
              "      const buttonEl =\n",
              "        document.querySelector('#id_15ffe1b9-c5e3-464f-8422-880336dbcf1d button.colab-df-generate');\n",
              "      buttonEl.style.display =\n",
              "        google.colab.kernel.accessAllowed ? 'block' : 'none';\n",
              "\n",
              "      buttonEl.onclick = () => {\n",
              "        google.colab.notebook.generateWithVariable('df');\n",
              "      }\n",
              "      })();\n",
              "    </script>\n",
              "  </div>\n",
              "\n",
              "    </div>\n",
              "  </div>\n"
            ],
            "text/plain": [
              "   A  B\n",
              "0  1  1\n",
              "0  1  2\n",
              "1  2  3\n",
              "1  2  4"
            ]
          },
          "execution_count": 9,
          "metadata": {},
          "output_type": "execute_result"
        }
      ],
      "source": [
        "df"
      ]
    },
    {
      "cell_type": "markdown",
      "metadata": {
        "id": "IrrQOC5E9JCz"
      },
      "source": [
        "4. Merge with Complex Logic\n",
        "Merge DataFrames on a range of values:"
      ]
    },
    {
      "cell_type": "code",
      "execution_count": null,
      "metadata": {
        "id": "cadUC9kj9JCz"
      },
      "outputs": [],
      "source": [
        "import pandas as pd\n",
        "df1 = pd.DataFrame({'A': [1, 10], 'B': [5, 15]})\n",
        "df2 = pd.DataFrame({'C': [3, 8, 12]})\n",
        "df2['key'] = df2['C'].apply(lambda x: df1[(df1['A'] <= x) & (df1['B'] >= x)].index[0])\n",
        "result = df2.merge(df1, left_on='key', right_index=True)"
      ]
    },
    {
      "cell_type": "markdown",
      "metadata": {
        "id": "RQ_oB8K79JCz"
      },
      "source": [
        "5. Performance Optimization with df.eval and df.query\n",
        "Speed up operations by avoiding Python loops:"
      ]
    },
    {
      "cell_type": "code",
      "execution_count": null,
      "metadata": {
        "id": "SOEnglbf9JCz"
      },
      "outputs": [],
      "source": [
        "df['C'] = df.eval('A + B')  # Fast computation\n",
        "filtered_df = df.query('A > 5 & B < 10')  # Fast filtering"
      ]
    },
    {
      "cell_type": "markdown",
      "metadata": {
        "id": "dHygUH6A9JC3"
      },
      "source": [
        "6. Dynamic Pivoting\n",
        "Pivot with variable columns:"
      ]
    },
    {
      "cell_type": "code",
      "execution_count": null,
      "metadata": {
        "id": "tjGf12rk9JC4"
      },
      "outputs": [],
      "source": [
        "pivot_col = 'Category'\n",
        "df.pivot(index='ID', columns=pivot_col, values='Value')"
      ]
    },
    {
      "cell_type": "markdown",
      "metadata": {
        "id": "oSfREGrS9JC4"
      },
      "source": [
        "7. Sparse DataFrames\n",
        "Handle memory-efficient storage for sparse data:"
      ]
    },
    {
      "cell_type": "code",
      "execution_count": null,
      "metadata": {
        "id": "GGg0DKl69JC4"
      },
      "outputs": [],
      "source": [
        "sparse_df = pd.DataFrame.sparse.from_spmatrix(scipy.sparse.csr_matrix([[1, 0], [0, 2]]))"
      ]
    },
    {
      "cell_type": "code",
      "execution_count": null,
      "metadata": {
        "id": "tU5Afc949JC4"
      },
      "outputs": [],
      "source": []
    },
    {
      "cell_type": "code",
      "execution_count": null,
      "metadata": {
        "id": "EIBnWILG9JC4"
      },
      "outputs": [],
      "source": [
        "# All properties and methods of the DataFrame object, with explanations and examples:\n",
        "\n",
        "# Property/Method\tDescription\n",
        "# abs()\tReturn a DataFrame with the absolute value of each value\n",
        "# add()\tAdds the values of a DataFrame with the specified value(s)\n",
        "# add_prefix()\tPrefix all labels\n",
        "# add_suffix()\tSuffix all labels\n",
        "# agg()\tApply a function or a function name to one of the axis of the DataFrame\n",
        "# aggregate()\tApply a function or a function name to one of the axis of the DataFrame\n",
        "# align()\tAligns two DataFrames with a specified join method\n",
        "# all()\tReturn True if all values in the DataFrame are True, otherwise False\n",
        "# any()\tReturns True if any of the values in the DataFrame are True, otherwise False\n",
        "# append()\tAppend new columns\n",
        "# applymap()\tExecute a function for each element in the DataFrame\n",
        "# apply()\tApply a function to one of the axis of the DataFrame\n",
        "# assign()\tAssign new columns\n",
        "# astype()\tConvert the DataFrame into a specified dtype\n",
        "# at\tGet or set the value of the item with the specified label\n",
        "# axes\tReturns the labels of the rows and the columns of the DataFrame\n",
        "# bfill()\tReplaces NULL values with the value from the next row\n",
        "# bool()\tReturns the Boolean value of the DataFrame\n",
        "# columns\tReturns the column labels of the DataFrame\n",
        "# combine()\tCompare the values in two DataFrames, and let a function decide which values to keep\n",
        "# combine_first()\tCompare two DataFrames, and if the first DataFrame has a NULL value, it will be filled with the respective value from the second DataFrame\n",
        "# compare()\tCompare two DataFrames and return the differences\n",
        "# convert_dtypes()\tConverts the columns in the DataFrame into new dtypes\n",
        "# corr()\tFind the correlation (relationship) between each column\n",
        "# count()\tReturns the number of not empty cells for each column/row\n",
        "# cov()\tFind the covariance of the columns\n",
        "# copy()\tReturns a copy of the DataFrame\n",
        "# cummax()\tCalculate the cumulative maximum values of the DataFrame\n",
        "# cummin()\tCalculate the cumulative minmum values of the DataFrame\n",
        "# cumprod()\tCalculate the cumulative product over the DataFrame\n",
        "# cumsum()\tCalculate the cumulative sum over the DataFrame\n",
        "# describe()\tReturns a description summary for each column in the DataFrame\n",
        "# diff()\tCalculate the difference between a value and the value of the same column in the previous row\n",
        "# div()\tDivides the values of a DataFrame with the specified value(s)\n",
        "# dot()\tMultiplies the values of a DataFrame with values from another array-like object, and add the result\n",
        "# drop()\tDrops the specified rows/columns from the DataFrame\n",
        "# drop_duplicates()\tDrops duplicate values from the DataFrame\n",
        "# droplevel()\tDrops the specified index/column(s)\n",
        "# dropna()\tDrops all rows that contains NULL values\n",
        "# dtypes\tReturns the dtypes of the columns of the DataFrame\n",
        "# duplicated()\tReturns True for duplicated rows, otherwise False\n",
        "# empty\tReturns True if the DataFrame is empty, otherwise False\n",
        "# eq()\tReturns True for values that are equal to the specified value(s), otherwise False\n",
        "# equals()\tReturns True if two DataFrames are equal, otherwise False\n",
        "# eval\tEvaluate a specified string\n",
        "# explode()\tConverts each element into a row\n",
        "# ffill()\tReplaces NULL values with the value from the previous row\n",
        "# fillna()\tReplaces NULL values with the specified value\n",
        "# filter()\tFilter the DataFrame according to the specified filter\n",
        "# first()\tReturns the first rows of a specified date selection\n",
        "# floordiv()\tDivides the values of a DataFrame with the specified value(s), and floor the values\n",
        "# ge()\tReturns True for values greater than, or equal to the specified value(s), otherwise False\n",
        "# get()\tReturns the item of the specified key\n",
        "# groupby()\tGroups the rows/columns into specified groups\n",
        "# gt()\tReturns True for values greater than the specified value(s), otherwise False\n",
        "# head()\tReturns the header row and the first 5 rows, or the specified number of rows\n",
        "# iat\tGet or set the value of the item in the specified position\n",
        "# idxmax()\tReturns the label of the max value in the specified axis\n",
        "# idxmin()\tReturns the label of the min value in the specified axis\n",
        "# iloc\tGet or set the values of a group of elements in the specified positions\n",
        "# index\tReturns the row labels of the DataFrame\n",
        "# infer_objects()\tChange the dtype of the columns in the DataFrame\n",
        "# info()\tPrints information about the DataFrame\n",
        "# insert()\tInsert a column in the DataFrame\n",
        "# interpolate()\tReplaces not-a-number values with the interpolated method\n",
        "# isin()\tReturns True if each elements in the DataFrame is in the specified value\n",
        "# isna()\tFinds not-a-number values\n",
        "# isnull()\tFinds NULL values\n",
        "# items()\tIterate over the columns of the DataFrame\n",
        "# iteritems()\tIterate over the columns of the DataFrame\n",
        "# iterrows()\tIterate over the rows of the DataFrame\n",
        "# itertuples()\tIterate over the rows as named tuples\n",
        "# join()\tJoin columns of another DataFrame\n",
        "# last()\tReturns the last rows of a specified date selection\n",
        "# le()\tReturns True for values less than, or equal to the specified value(s), otherwise False\n",
        "# loc\tGet or set the value of a group of elements specified using their labels\n",
        "# lt()\tReturns True for values less than the specified value(s), otherwise False\n",
        "# keys()\tReturns the keys of the info axis\n",
        "# kurtosis()\tReturns the kurtosis of the values in the specified axis\n",
        "# mask()\tReplace all values where the specified condition is True\n",
        "# max()\tReturn the max of the values in the specified axis\n",
        "# mean()\tReturn the mean of the values in the specified axis\n",
        "# median()\tReturn the median of the values in the specified axis\n",
        "# melt()\tReshape the DataFrame from a wide table to a long table\n",
        "# memory_usage()\tReturns the memory usage of each column\n",
        "# merge()\tMerge DataFrame objects\n",
        "# min()\tReturns the min of the values in the specified axis\n",
        "# mod()\tModules (find the remainder) of the values of a DataFrame\n",
        "# mode()\tReturns the mode of the values in the specified axis\n",
        "# mul()\tMultiplies the values of a DataFrame with the specified value(s)\n",
        "# ndim\tReturns the number of dimensions of the DataFrame\n",
        "# ne()\tReturns True for values that are not equal to the specified value(s), otherwise False\n",
        "# nlargest()\tSort the DataFrame by the specified columns, descending, and return the specified number of rows\n",
        "# notna()\tFinds values that are not not-a-number\n",
        "# notnull()\tFinds values that are not NULL\n",
        "# nsmallest()\tSort the DataFrame by the specified columns, ascending, and return the specified number of rows\n",
        "# nunique()\tReturns the number of unique values in the specified axis\n",
        "# pct_change()\tReturns the percentage change between the previous and the current value\n",
        "# pipe()\tApply a function to the DataFrame\n",
        "# pivot()\tRe-shape the DataFrame\n",
        "# pivot_table()\tCreate a spreadsheet pivot table as a DataFrame\n",
        "# pop()\tRemoves an element from the DataFrame\n",
        "# pow()\tRaise the values of one DataFrame to the values of another DataFrame\n",
        "# prod()\tReturns the product of all values in the specified axis\n",
        "# product()\tReturns the product of the values in the specified axis\n",
        "# quantile()\tReturns the values at the specified quantile of the specified axis\n",
        "# query()\tQuery the DataFrame\n",
        "# radd()\tReverse-adds the values of one DataFrame with the values of another DataFrame\n",
        "# rdiv()\tReverse-divides the values of one DataFrame with the values of another DataFrame\n",
        "# reindex()\tChange the labels of the DataFrame\n",
        "# reindex_like()\t??\n",
        "# rename()\tChange the labels of the axes\n",
        "# rename_axis()\tChange the name of the axis\n",
        "# reorder_levels()\tRe-order the index levels\n",
        "# replace()\tReplace the specified values\n",
        "# reset_index()\tReset the index\n",
        "# rfloordiv()\tReverse-divides the values of one DataFrame with the values of another DataFrame\n",
        "# rmod()\tReverse-modules the values of one DataFrame to the values of another DataFrame\n",
        "# rmul()\tReverse-multiplies the values of one DataFrame with the values of another DataFrame\n",
        "# round()\tReturns a DataFrame with all values rounded into the specified format\n",
        "# rpow()\tReverse-raises the values of one DataFrame up to the values of another DataFrame\n",
        "# rsub()\tReverse-subtracts the values of one DataFrame to the values of another DataFrame\n",
        "# rtruediv()\tReverse-divides the values of one DataFrame with the values of another DataFrame\n",
        "# sample()\tReturns a random selection elements\n",
        "# sem()\tReturns the standard error of the mean in the specified axis\n",
        "# select_dtypes()\tReturns a DataFrame with columns of selected data types\n",
        "# shape\tReturns the number of rows and columns of the DataFrame\n",
        "# set_axis()\tSets the index of the specified axis\n",
        "# set_flags()\tReturns a new DataFrame with the specified flags\n",
        "# set_index()\tSet the Index of the DataFrame\n",
        "# size\tReturns the number of elements in the DataFrame\n",
        "# skew()\tReturns the skew of the values in the specified axis\n",
        "# sort_index()\tSorts the DataFrame according to the labels\n",
        "# sort_values()\tSorts the DataFrame according to the values\n",
        "# squeeze()\tConverts a single column DataFrame into a Series\n",
        "# stack()\tReshape the DataFrame from a wide table to a long table\n",
        "# std()\tReturns the standard deviation of the values in the specified axis\n",
        "# sum()\tReturns the sum of the values in the specified axis\n",
        "# sub()\tSubtracts the values of a DataFrame with the specified value(s)\n",
        "# swaplevel()\tSwaps the two specified levels\n",
        "# T\tTurns rows into columns and columns into rows\n",
        "# tail()\tReturns the headers and the last rows\n",
        "# take()\tReturns the specified elements\n",
        "# to_xarray()\tReturns an xarray object\n",
        "# transform()\tExecute a function for each value in the DataFrame\n",
        "# transpose()\tTurns rows into columns and columns into rows\n",
        "# truediv()\tDivides the values of a DataFrame with the specified value(s)\n",
        "# truncate()\tRemoves elements outside of a specified set of values\n",
        "# update()\tUpdate one DataFrame with the values from another DataFrame\n",
        "# value_counts()\tReturns the number of unique rows\n",
        "# values\tReturns the DataFrame as a NumPy array\n",
        "# var()\tReturns the variance of the values in the specified axis\n",
        "# where()\tReplace all values where the specified condition is False\n",
        "# xs()\tReturns the cross-section of the DataFrame\n",
        "# __iter__()\tReturns an iterator of the info axes"
      ]
    },
    {
      "cell_type": "code",
      "execution_count": null,
      "metadata": {
        "id": "b9zIqGf49JC4"
      },
      "outputs": [],
      "source": []
    },
    {
      "cell_type": "code",
      "execution_count": null,
      "metadata": {
        "id": "1-qeOriZ9JC4"
      },
      "outputs": [],
      "source": [
        "import pandas as pd\n",
        "import duckdb\n",
        "# Run SQL query directly on DataFrame\n",
        "result = duckdb.query(\"SELECT name, age FROM df WHERE age > 30\").to_df()"
      ]
    },
    {
      "cell_type": "markdown",
      "metadata": {},
      "source": [
        "\n",
        "\n",
        "## 🔹 Why use **DuckDB** with Pandas DataFrames?\n",
        "\n",
        "1. **SQL inside Python**\n",
        "\n",
        "   * If you think in SQL, DuckDB lets you run **Postgres-style SQL** directly on Pandas DataFrames.\n",
        "\n",
        "\n",
        "2. **Performance** \n",
        "\n",
        "   * DuckDB is **vectorized** and written in C++, so queries (especially aggregations, joins, window functions) are much faster than pure Pandas on large data.\n",
        "   * Handles **millions of rows** smoothly in-memory.\n",
        "   * Can query **Parquet/CSV files directly** without loading them fully into Pandas first.\n",
        "\n",
        "3. **Full SQL Power**\n",
        "\n",
        "   * Supports **window functions, CTEs, subqueries, aggregations, joins**, etc.\n",
        "   * Pandas can do most of these, but SQL is often **simpler and cleaner**.\n",
        "\n",
        "4. **Interoperability**\n",
        "\n",
        "   * Works with **Pandas, Polars, NumPy, Arrow** seamlessly.\n",
        "   * Can also query **remote files (S3, GCS, etc.)** directly.\n",
        "\n",
        "5. **No Server Needed**\n",
        "\n",
        "   * DuckDB is **in-process** (like SQLite). No need to set up a database server.\n",
        "   * Just `pip install duckdb` and query.\n",
        "\n",
        "---\n",
        "\n",
        "## 🔹 When to prefer DuckDB over Pandas?\n",
        "\n",
        "* If you’re **comfortable in SQL** and want to avoid verbose Pandas chaining.\n",
        "* If your data is **big** (millions of rows).\n",
        "* If you need **window functions** or **complex joins** (cleaner in SQL than Pandas).\n",
        "* If you want to query **Parquet/CSV files directly** without conversion.\n",
        "\n",
        "\n",
        "* Use **Pandas** for **small-to-medium, Pythonic data wrangling**.\n",
        "* Use **DuckDB** when you need **SQL expressiveness, speed, or big data handling**.\n",
        "\n",
        "---"
      ]
    },
    {
      "cell_type": "code",
      "execution_count": null,
      "metadata": {
        "id": "196OcJVq9JC4"
      },
      "outputs": [],
      "source": []
    }
  ],
  "metadata": {
    "colab": {
      "provenance": []
    },
    "kernelspec": {
      "display_name": "Python 3",
      "language": "python",
      "name": "python3"
    },
    "language_info": {
      "codemirror_mode": {
        "name": "ipython",
        "version": 3
      },
      "file_extension": ".py",
      "mimetype": "text/x-python",
      "name": "python",
      "nbconvert_exporter": "python",
      "pygments_lexer": "ipython3",
      "version": "3.10.11"
    }
  },
  "nbformat": 4,
  "nbformat_minor": 0
}
