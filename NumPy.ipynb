{
  "cells": [
    {
      "cell_type": "code",
      "execution_count": null,
      "metadata": {
        "id": "tvvMXCUYBTXp"
      },
      "outputs": [],
      "source": [
        "import numpy as np"
      ]
    },
    {
      "cell_type": "markdown",
      "metadata": {
        "id": "G7d0hyOLBTXs"
      },
      "source": [
        "NumPy\n",
        "1. Creating Arrays"
      ]
    },
    {
      "cell_type": "code",
      "execution_count": null,
      "metadata": {
        "id": "diAtyN4UBTXw"
      },
      "outputs": [],
      "source": [
        "# Basic arrays\n",
        "arr = np.array([1, 2, 3])       # 1D array\n",
        "arr = np.array([[1, 2], [3, 4]])  # 2D array\n",
        "\n",
        "# Special arrays\n",
        "np.zeros((3, 3))  # 3x3 array of zeros\n",
        "np.ones((2, 2))   # 2x2 array of ones\n",
        "np.eye(3)         # Identity matrix\n",
        "np.linspace(0, 10, 5)  # 5 equally spaced values from 0 to 10\n",
        "np.arange(0, 10, 2)    # Values from 0 to 10 with step 2"
      ]
    },
    {
      "cell_type": "markdown",
      "metadata": {
        "id": "cxrQGt09BTXx"
      },
      "source": [
        "2. Indexing & Slicing"
      ]
    },
    {
      "cell_type": "code",
      "execution_count": null,
      "metadata": {
        "id": "-FDC9CodBTXy"
      },
      "outputs": [],
      "source": [
        "arr = np.array([[1, 2, 3], [4, 5, 6]])\n",
        "arr[0, 1]      # Element at (0, 1)\n",
        "arr[:, 1]      # All rows, column 1\n",
        "arr[1, :]      # Row 1, all columns"
      ]
    },
    {
      "cell_type": "markdown",
      "metadata": {
        "id": "IBz6TCziBTXz"
      },
      "source": [
        "3. Basic Operations"
      ]
    },
    {
      "cell_type": "code",
      "execution_count": null,
      "metadata": {
        "id": "aoLiPD6BBTX0"
      },
      "outputs": [],
      "source": [
        "arr + 1       # Add scalar to array\n",
        "arr * 2       # Multiply scalar to array\n",
        "arr.mean()    # Mean of array\n",
        "arr.sum()     # Sum of elements\n",
        "arr.max()     # Maximum value\n",
        "np.sqrt(arr)  # Element-wise square root"
      ]
    },
    {
      "cell_type": "markdown",
      "metadata": {
        "id": "mgbGvtX0BTX1"
      },
      "source": [
        "4. Reshaping"
      ]
    },
    {
      "cell_type": "code",
      "execution_count": null,
      "metadata": {
        "id": "jrSMCBtfBTX2"
      },
      "outputs": [],
      "source": [
        "arr = np.arange(1, 7)          # [1, 2, 3, 4, 5, 6]\n",
        "arr = arr.reshape((2, 3))      # Reshape to 2x3 matrix\n",
        "arr.flatten()                  # Flatten to 1D"
      ]
    },
    {
      "cell_type": "markdown",
      "metadata": {
        "id": "0T4eLTLVBTX3"
      },
      "source": [
        "5. Broadcasting"
      ]
    },
    {
      "cell_type": "code",
      "execution_count": null,
      "metadata": {
        "id": "TXBBWtBIBTX3"
      },
      "outputs": [],
      "source": [
        "arr = np.array([1, 2, 3])\n",
        "arr + np.array([[1], [2], [3]])  # Add arrays of different shapes"
      ]
    },
    {
      "cell_type": "markdown",
      "metadata": {
        "id": "4rTehJDyBTX4"
      },
      "source": [
        "6. Random Numbers"
      ]
    },
    {
      "cell_type": "code",
      "execution_count": null,
      "metadata": {
        "id": "RC2MguhiBTX4"
      },
      "outputs": [],
      "source": [
        "np.random.rand(3)               # 3 random numbers [0, 1)\n",
        "np.random.randint(1, 10, size=5)  # 5 random integers [1, 10)\n",
        "np.random.normal(0, 1, size=4)    # Normal distribution (mean=0, std=1)"
      ]
    },
    {
      "cell_type": "markdown",
      "metadata": {
        "id": "KD0MibrpBTX5"
      },
      "source": [
        "7. Advanced Indexing"
      ]
    },
    {
      "cell_type": "code",
      "execution_count": null,
      "metadata": {
        "id": "6ZUJBAmhBTX5"
      },
      "outputs": [],
      "source": [
        "arr = np.array([10, 20, 30, 40])\n",
        "mask = arr > 20\n",
        "arr[mask]                # Values greater than 20\n",
        "arr[[0, 3]]              # Index-based selection"
      ]
    },
    {
      "cell_type": "markdown",
      "metadata": {
        "id": "sK13UKHSBTX5"
      },
      "source": [
        "8. Matrix Operations"
      ]
    },
    {
      "cell_type": "code",
      "execution_count": null,
      "metadata": {
        "id": "FGFIibPWBTX6"
      },
      "outputs": [],
      "source": [
        "A = np.array([[1, 2], [3, 4]])\n",
        "B = np.array([[5, 6], [7, 8]])\n",
        "np.dot(A, B)             # Matrix multiplication\n",
        "np.linalg.inv(A)         # Inverse of a matrix\n",
        "np.transpose(A)          # Transpose\n",
        "np.linalg.eig(A)         # Eigenvalues and eigenvectors"
      ]
    },
    {
      "cell_type": "markdown",
      "metadata": {
        "id": "CHZv9tj8BTX6"
      },
      "source": [
        "9. Statistical Operations"
      ]
    },
    {
      "cell_type": "code",
      "execution_count": null,
      "metadata": {
        "id": "yLW40sRfBTX6"
      },
      "outputs": [],
      "source": [
        "arr.std()               # Standard deviation\n",
        "np.percentile(arr, 50)  # Median (50th percentile)"
      ]
    },
    {
      "cell_type": "markdown",
      "metadata": {
        "id": "nr_tPkw9BTX7"
      },
      "source": [
        "10. Boolean Operations"
      ]
    },
    {
      "cell_type": "code",
      "execution_count": null,
      "metadata": {
        "id": "6nZRisgYBTX7"
      },
      "outputs": [],
      "source": [
        "np.any(arr > 5)         # Check if any element > 5\n",
        "np.all(arr > 5)         # Check if all elements > 5"
      ]
    },
    {
      "cell_type": "markdown",
      "metadata": {
        "id": "QeJPrwBuBTX7"
      },
      "source": [
        "11. Stacking and Splitting"
      ]
    },
    {
      "cell_type": "code",
      "execution_count": null,
      "metadata": {
        "id": "A_ZeJGdoBTX7"
      },
      "outputs": [],
      "source": [
        "# Stacking\n",
        "a = np.array([1, 2])\n",
        "b = np.array([3, 4])\n",
        "np.vstack((a, b))        # Vertical stack\n",
        "np.hstack((a, b))        # Horizontal stack\n",
        "\n",
        "# Splitting\n",
        "arr = np.array([1, 2, 3, 4, 5, 6])\n",
        "np.split(arr, 3)         # Split into 3 equal parts"
      ]
    },
    {
      "cell_type": "markdown",
      "metadata": {
        "id": "j3hZXon-BTX8"
      },
      "source": [
        "12. Generating Random Numbers"
      ]
    },
    {
      "cell_type": "code",
      "execution_count": null,
      "metadata": {
        "id": "LszQa17KBTX8"
      },
      "outputs": [],
      "source": [
        "np.random.choice([1, 2, 3], size=5)  # Random sampling\n",
        "np.random.seed(42)                   # Set seed for reproducibility"
      ]
    },
    {
      "cell_type": "markdown",
      "metadata": {
        "id": "6yYT3k3JBTX8"
      },
      "source": [
        "13. Advanced Reshaping"
      ]
    },
    {
      "cell_type": "code",
      "execution_count": null,
      "metadata": {
        "id": "HG69UFRGBTX8"
      },
      "outputs": [],
      "source": [
        "arr = np.arange(8)\n",
        "arr.reshape((2, 2, 2))  # Reshape into 3D array"
      ]
    },
    {
      "cell_type": "markdown",
      "metadata": {
        "id": "uMCTZHt_BTX8"
      },
      "source": [
        "14. Handling Missing Values"
      ]
    },
    {
      "cell_type": "code",
      "execution_count": null,
      "metadata": {
        "id": "7ibvPd1QBTX8"
      },
      "outputs": [],
      "source": [
        "arr = np.array([1, np.nan, 3])\n",
        "np.isnan(arr)              # Identify NaNs\n",
        "arr = np.nan_to_num(arr)   # Replace NaNs with 0"
      ]
    },
    {
      "cell_type": "markdown",
      "metadata": {
        "id": "97HzWwpGBTX8"
      },
      "source": [
        "Advanced Use Cases for NumPy\n",
        "1. Broadcasting\n",
        "Perform operations without explicitly reshaping:"
      ]
    },
    {
      "cell_type": "code",
      "execution_count": null,
      "metadata": {
        "id": "lveMeHTlBTX8"
      },
      "outputs": [],
      "source": [
        "a = np.array([1, 2, 3])\n",
        "b = np.array([[10], [20], [30]])\n",
        "result = a + b  # Broadcasting adds [1, 2, 3] to each row of b"
      ]
    },
    {
      "cell_type": "markdown",
      "metadata": {
        "id": "0elBnNbrBTX9"
      },
      "source": [
        "2. Advanced Masking\n",
        "Apply masks with conditions:"
      ]
    },
    {
      "cell_type": "code",
      "execution_count": null,
      "metadata": {
        "id": "-2ZN90ZHBTX9"
      },
      "outputs": [],
      "source": [
        "arr = np.array([1, 2, 3, 4])\n",
        "mask = (arr > 2) & (arr < 4)\n",
        "arr[mask] = 100  # Update values conditionally"
      ]
    },
    {
      "cell_type": "markdown",
      "metadata": {
        "id": "l4ulxq8JBTX9"
      },
      "source": [
        "3. Vectorized String Operations\n",
        "Handle string data efficiently:"
      ]
    },
    {
      "cell_type": "code",
      "execution_count": null,
      "metadata": {
        "id": "wYGlANViBTX9"
      },
      "outputs": [],
      "source": [
        "arr = np.array(['apple', 'banana', 'cherry'])\n",
        "np.char.upper(arr)  # ['APPLE', 'BANANA', 'CHERRY']"
      ]
    },
    {
      "cell_type": "markdown",
      "metadata": {
        "id": "Yucd9NKnBTX-"
      },
      "source": [
        "4. Memory Mapping Large Arrays\n",
        "Work with arrays too large for memory:"
      ]
    },
    {
      "cell_type": "code",
      "execution_count": null,
      "metadata": {
        "id": "Vx3EjjC1BTX-"
      },
      "outputs": [],
      "source": [
        "mmap = np.memmap('data.dat', dtype='float32', mode='w+', shape=(1000, 1000))\n",
        "mmap[:] = np.random.rand(1000, 1000)"
      ]
    },
    {
      "cell_type": "markdown",
      "metadata": {
        "id": "lNgBnAWjBTX-"
      },
      "source": [
        "5. Advanced Linear Algebra\n",
        "Perform sophisticated matrix operations:"
      ]
    },
    {
      "cell_type": "code",
      "execution_count": null,
      "metadata": {
        "id": "_bajxDCGBTX-"
      },
      "outputs": [],
      "source": [
        "A = np.random.rand(3, 3)\n",
        "b = np.random.rand(3)\n",
        "x = np.linalg.solve(A, b)  # Solve Ax = b\n",
        "Q, R = np.linalg.qr(A)     # QR decomposition"
      ]
    },
    {
      "cell_type": "markdown",
      "metadata": {
        "id": "ngXuG7EbBTYD"
      },
      "source": [
        "6. Creating Structured Arrays\n",
        "Work with arrays with named fields:"
      ]
    },
    {
      "cell_type": "code",
      "execution_count": null,
      "metadata": {
        "id": "I4AX8F9lBTYD"
      },
      "outputs": [],
      "source": [
        "data = np.array([(1, 'Alice', 25.5), (2, 'Bob', 30.0)],\n",
        "                dtype=[('ID', 'i4'), ('Name', 'U10'), ('Score', 'f4')])\n",
        "data['Name']  # Access specific field"
      ]
    },
    {
      "cell_type": "markdown",
      "metadata": {
        "id": "CB0G88ZpBTYD"
      },
      "source": [
        "7. Efficient Searching\n",
        "Fast searching and sorting:"
      ]
    },
    {
      "cell_type": "code",
      "execution_count": null,
      "metadata": {
        "id": "SYY4lDdVBTYE"
      },
      "outputs": [],
      "source": [
        "arr = np.array([1, 3, 5, 7])\n",
        "np.searchsorted(arr, 4)  # Find index where 4 should be inserted"
      ]
    },
    {
      "cell_type": "markdown",
      "metadata": {
        "id": "SWIv4rWFBTYE"
      },
      "source": [
        "8. Random Sampling with Custom Weights\n",
        "Sample with probabilities:"
      ]
    },
    {
      "cell_type": "code",
      "execution_count": null,
      "metadata": {
        "id": "e44DtUB3BTYE"
      },
      "outputs": [],
      "source": [
        "weights = [0.1, 0.3, 0.6]\n",
        "np.random.choice([1, 2, 3], size=5, p=weights)"
      ]
    },
    {
      "cell_type": "markdown",
      "metadata": {
        "id": "0mN4yj_rBTYE"
      },
      "source": [
        "9. Advanced Reshaping\n",
        "Flatten multi-dimensional arrays:"
      ]
    },
    {
      "cell_type": "code",
      "execution_count": null,
      "metadata": {
        "id": "5L1NGvnlBTYE"
      },
      "outputs": [],
      "source": [
        "arr = np.random.rand(2, 2, 3)\n",
        "arr_flat = arr.reshape(-1)  # Flatten"
      ]
    },
    {
      "cell_type": "markdown",
      "metadata": {
        "id": "2SsIU7PCBTYE"
      },
      "source": [
        "10. Parallel Computations\n",
        "Use NumPy with parallel libraries like Dask for large-scale computations:"
      ]
    },
    {
      "cell_type": "code",
      "execution_count": null,
      "metadata": {
        "id": "kFjJG_kgBTYE"
      },
      "outputs": [],
      "source": [
        "import dask.array as da\n",
        "large_array = da.from_array(np.random.rand(10000, 10000), chunks=(1000, 1000))\n",
        "result = large_array.sum().compute()"
      ]
    },
    {
      "cell_type": "code",
      "execution_count": null,
      "metadata": {
        "id": "5WsAVmG3BTYE"
      },
      "outputs": [],
      "source": []
    },
    {
      "cell_type": "code",
      "execution_count": null,
      "metadata": {
        "id": "wH2R6SYTBTYE"
      },
      "outputs": [],
      "source": []
    },
    {
      "cell_type": "code",
      "execution_count": null,
      "metadata": {
        "id": "GmLZIbuRBTYE"
      },
      "outputs": [],
      "source": []
    },
    {
      "cell_type": "code",
      "execution_count": null,
      "metadata": {
        "id": "M-3KQygPBTYE"
      },
      "outputs": [],
      "source": []
    },
    {
      "cell_type": "code",
      "execution_count": null,
      "metadata": {
        "id": "VLOjtu7BBTYF"
      },
      "outputs": [],
      "source": []
    },
    {
      "cell_type": "code",
      "execution_count": null,
      "metadata": {
        "id": "Eg-bIvVeBTYF"
      },
      "outputs": [],
      "source": []
    },
    {
      "cell_type": "code",
      "execution_count": null,
      "metadata": {
        "id": "SuBupp7jBTYF"
      },
      "outputs": [],
      "source": []
    }
  ],
  "metadata": {
    "kernelspec": {
      "display_name": "Python 3",
      "language": "python",
      "name": "python3"
    },
    "language_info": {
      "codemirror_mode": {
        "name": "ipython",
        "version": 3
      },
      "file_extension": ".py",
      "mimetype": "text/x-python",
      "name": "python",
      "nbconvert_exporter": "python",
      "pygments_lexer": "ipython3",
      "version": "3.10.11"
    },
    "colab": {
      "provenance": []
    }
  },
  "nbformat": 4,
  "nbformat_minor": 0
}