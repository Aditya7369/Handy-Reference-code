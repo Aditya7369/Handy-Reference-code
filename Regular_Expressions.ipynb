{
  "cells": [
    {
      "cell_type": "markdown",
      "metadata": {
        "id": "Ag2839XZFa0Q"
      },
      "source": [
        "Regular Expressions (Regex) in Python are used for pattern matching and searching within strings. The re module in Python provides functions to work with regex. Regex allows us to specify complex search patterns for text, making it powerful for tasks like string validation, extraction, or substitution."
      ]
    },
    {
      "cell_type": "code",
      "execution_count": null,
      "metadata": {
        "id": "QsggEytvFa0U"
      },
      "outputs": [],
      "source": [
        "import re"
      ]
    },
    {
      "cell_type": "markdown",
      "metadata": {
        "id": "4I6qt1SKFa0X"
      },
      "source": [
        "# Basic Regex Patterns\n"
      ]
    },
    {
      "cell_type": "code",
      "execution_count": null,
      "metadata": {
        "id": "ZwEsjidmFa0a"
      },
      "outputs": [],
      "source": [
        "# [abc] : a or b or c.\n",
        "# [^abc] : Except a/b/c.\n",
        "# [0-9] : 0 to 9.\n",
        "# [a-z] : a to z.\n",
        "# [A-Z] : A to Z.\n",
        "# [a-z A-Z] : a to z or A to Z\n",
        "\n",
        "# ^[A] : start with a.\n",
        "# [A]$ : end with a.\n",
        "\n",
        "# ## Quantifiers\n",
        "# []? : occurs 0 or 1 time.\n",
        "# []+ : occurs 1 or more times.\n",
        "# []* : occurs 0 or more times.\n",
        "# []{n} : occurs n time.\n",
        "# []{n,} : occurs n or more times.\n",
        "# []{n,m} : occurs atlease n times but less than m times.\n",
        "\n",
        "# ## Metacharectors\n",
        "# \\d : [0-9]\n",
        "# \\D : [^0-9]\n",
        "# \\w : [a-z A-Z 0-9]\n",
        "# \\W : [^a-z A-Z 0-9]\n",
        "\n",
        "# re.search(): Finds the first match.\n",
        "# re.findall(): Finds all matches.\n",
        "# re.sub(): Replaces matched patterns.\n",
        "\n",
        "# Grouping: Extracts specific parts of a match using parentheses.\n",
        "# Flags: Modify regex behavior (e.g., case-insensitivity, multiline matching)."
      ]
    },
    {
      "cell_type": "code",
      "execution_count": null,
      "metadata": {
        "id": "sAY_bl76Fa0c"
      },
      "outputs": [],
      "source": [
        "# .  : Matches any character except a newline.\n",
        "# ^  : Matches the start of a string.\n",
        "# $  : Matches the end of a string.\n",
        "# []  : A set of characters. For example, [a-z] matches any lowercase letter.\n",
        "# \\d  : Matches any digit (equivalent to [0-9]).\n",
        "# \\w  : Matches any word character (alphanumeric + underscore).\n",
        "# \\s  : Matches any whitespace character (spaces, tabs).\n",
        "# *  : Matches 0 or more repetitions of the preceding pattern.\n",
        "# +  : Matches 1 or more repetitions of the preceding pattern.\n",
        "# ?  : Matches 0 or 1 occurrence of the preceding pattern."
      ]
    },
    {
      "cell_type": "code",
      "execution_count": null,
      "metadata": {
        "id": "RdfFIKMQFa0e",
        "outputId": "087b4b02-7e19-47be-c71c-fe7c71637305"
      },
      "outputs": [
        {
          "name": "stdout",
          "output_type": "stream",
          "text": [
            "42\n"
          ]
        }
      ],
      "source": [
        "# re.search(pattern, string):\n",
        "\n",
        "# Searches for the first occurrence of a pattern in the string.\n",
        "# Returns a match object if found, else None.\n",
        "\n",
        "match = re.search(r'\\d+', 'There are 42 apples and 30 mangoes')\n",
        "print(match.group())  # Output: '42'"
      ]
    },
    {
      "cell_type": "code",
      "execution_count": null,
      "metadata": {
        "id": "MW9ckv9bFa0g",
        "outputId": "cd9343f8-0401-40c6-9ecc-b4156945f704"
      },
      "outputs": [
        {
          "name": "stdout",
          "output_type": "stream",
          "text": [
            "['This', 'test']\n"
          ]
        }
      ],
      "source": [
        "# re.findall(pattern, string):\n",
        "\n",
        "# Returns a list of all matches in the string.\n",
        "\n",
        "matches = re.findall(r'\\b\\w{4}\\b', 'This is a test message')\n",
        "print(matches)  # Output: ['This', 'test']"
      ]
    },
    {
      "cell_type": "code",
      "execution_count": null,
      "metadata": {
        "id": "_TpICnnhFa0j",
        "outputId": "4a1d9c3d-701b-4741-dd70-8e178d9131d3"
      },
      "outputs": [
        {
          "name": "stdout",
          "output_type": "stream",
          "text": [
            "Hello\n"
          ]
        }
      ],
      "source": [
        "# re.match(pattern, string):\n",
        "\n",
        "# Checks if the pattern matches the start of the string.\n",
        "\n",
        "match = re.match(r'\\w+', 'Hello World')\n",
        "print(match.group())  # Output: 'Hello'"
      ]
    },
    {
      "cell_type": "code",
      "execution_count": null,
      "metadata": {
        "id": "XfFCj5AHFa0k",
        "outputId": "a6cc5020-01e0-4d61-fffd-1887173c9908"
      },
      "outputs": [
        {
          "name": "stdout",
          "output_type": "stream",
          "text": [
            "['Split', 'this', 'sentence', 'by', 'spaces']\n"
          ]
        }
      ],
      "source": [
        "# re.split(pattern, string):\n",
        "\n",
        "# Splits the string based on the pattern.\n",
        "\n",
        "result = re.split(r'\\s+', 'Split this sentence by spaces')\n",
        "print(result)  # Output: ['Split', 'this', 'sentence', 'by', 'spaces']"
      ]
    },
    {
      "cell_type": "code",
      "execution_count": null,
      "metadata": {
        "id": "VoD9K7wOFa0m",
        "outputId": "acc3a6f7-a7b5-43a5-da37-ee4506e109fa"
      },
      "outputs": [
        {
          "name": "stdout",
          "output_type": "stream",
          "text": [
            "I like oranges\n"
          ]
        }
      ],
      "source": [
        "# re.sub(pattern, replacement, string):\n",
        "\n",
        "# Replaces occurrences of the pattern with the replacement.\n",
        "\n",
        "new_string = re.sub(r'apples', 'oranges', 'I like apples')\n",
        "print(new_string)  # Output: 'I like oranges'"
      ]
    },
    {
      "cell_type": "code",
      "execution_count": null,
      "metadata": {
        "id": "mwNHkY47Fa0n",
        "outputId": "cf719207-7320-4080-e4ff-df6e4b0dcfe9"
      },
      "outputs": [
        {
          "name": "stdout",
          "output_type": "stream",
          "text": [
            "['support@example.com', 'sales@domain.org']\n"
          ]
        }
      ],
      "source": [
        "# Let's extract email addresses from a string:\n",
        "\n",
        "text = \"Contact us at support@example.com or sales@domain.org.\"\n",
        "\n",
        "# Pattern to match an email address\n",
        "pattern = r'\\b[A-Za-z0-9._%+-]+@[A-Za-z0-9.-]+\\.[A-Z|a-z]{2,}\\b'\n",
        "\n",
        "emails = re.findall(pattern, text)\n",
        "print(emails)  # Output: ['support@example.com', 'sales@domain.org']\n"
      ]
    },
    {
      "cell_type": "code",
      "execution_count": null,
      "metadata": {
        "id": "DNb9QegsFa0o",
        "outputId": "d513570e-13b1-4acb-ca0a-b3542d24139f"
      },
      "outputs": [
        {
          "name": "stdout",
          "output_type": "stream",
          "text": [
            "Valid phone number\n"
          ]
        }
      ],
      "source": [
        "# Validating a Phone Number Format\n",
        "\n",
        "phone_number = \"123-456-7890\"\n",
        "\n",
        "# Pattern to match a phone number format (XXX-XXX-XXXX)\n",
        "pattern = r'^\\d{3}-\\d{3}-\\d{4}$'\n",
        "\n",
        "if re.match(pattern, phone_number):\n",
        "    print(\"Valid phone number\")\n",
        "else:\n",
        "    print(\"Invalid phone number\")"
      ]
    },
    {
      "cell_type": "code",
      "execution_count": null,
      "metadata": {
        "id": "UcjM_PRiFa0q",
        "outputId": "698208b5-9775-4a29-8a3d-b23941dc98ac"
      },
      "outputs": [
        {
          "name": "stdout",
          "output_type": "stream",
          "text": [
            "Year: 1992\n",
            "Month: 08\n",
            "Day: 12\n"
          ]
        }
      ],
      "source": [
        "# Grouping in Regex\n",
        "# Grouping allows you to extract specific parts of a match.\n",
        "\n",
        "text = \"John was born on 1992-08-12.\"\n",
        "\n",
        "# Extract the year, month, and day\n",
        "pattern = r'(\\d{4})-(\\d{2})-(\\d{2})'\n",
        "match = re.search(pattern, text)\n",
        "\n",
        "if match:\n",
        "    print(f\"Year: {match.group(1)}\")  # Output: 1992\n",
        "    print(f\"Month: {match.group(2)}\") # Output: 08\n",
        "    print(f\"Day: {match.group(3)}\")   # Output: 12\n"
      ]
    },
    {
      "cell_type": "code",
      "execution_count": null,
      "metadata": {
        "id": "KYO_IjRNFa0r",
        "outputId": "79235d11-5f0b-4d56-f1c8-330cf14bd39a"
      },
      "outputs": [
        {
          "name": "stdout",
          "output_type": "stream",
          "text": [
            "['hello', 'hello']\n"
          ]
        }
      ],
      "source": [
        "# Flags in Regex\n",
        "# Flags modify the behavior of the pattern matching:\n",
        "\n",
        "# re.IGNORECASE (re.I): Makes the pattern case-insensitive.\n",
        "# re.MULTILINE (re.M): Allows ^ and $ to match the start and end of each line.\n",
        "# re.DOTALL (re.S): Allows . to match newline characters as well.\n",
        "\n",
        "pattern = r'^hello'\n",
        "text = \"\"\"hello world\n",
        "hello again\"\"\"\n",
        "matches = re.findall(pattern, text, re.MULTILINE)\n",
        "print(matches)  # Output: ['hello', 'hello']\n"
      ]
    },
    {
      "cell_type": "code",
      "execution_count": null,
      "metadata": {
        "id": "XfiIecH_Fa0s"
      },
      "outputs": [],
      "source": []
    },
    {
      "cell_type": "code",
      "execution_count": null,
      "metadata": {
        "id": "skdGumrfFa0s"
      },
      "outputs": [],
      "source": []
    }
  ],
  "metadata": {
    "kernelspec": {
      "display_name": "Python 3",
      "language": "python",
      "name": "python3"
    },
    "language_info": {
      "codemirror_mode": {
        "name": "ipython",
        "version": 3
      },
      "file_extension": ".py",
      "mimetype": "text/x-python",
      "name": "python",
      "nbconvert_exporter": "python",
      "pygments_lexer": "ipython3",
      "version": "3.10.11"
    },
    "colab": {
      "provenance": []
    }
  },
  "nbformat": 4,
  "nbformat_minor": 0
}