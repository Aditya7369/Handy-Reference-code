{
  "nbformat": 4,
  "nbformat_minor": 0,
  "metadata": {
    "colab": {
      "provenance": []
    },
    "kernelspec": {
      "name": "python3",
      "display_name": "Python 3"
    },
    "language_info": {
      "name": "python"
    }
  },
  "cells": [
    {
      "cell_type": "code",
      "execution_count": null,
      "metadata": {
        "id": "UdArZSaPZ2ts"
      },
      "outputs": [],
      "source": [
        "import warnings\n",
        "warnings.filterwarnings('ignore')\n",
        "#-----------------------------------\n",
        "import time\n",
        "import pandas as pd\n",
        "import numpy as np\n",
        "from datetime import datetime\n",
        "import logging\n",
        "#-----------------------------------\n",
        "import sqlalchemy\n",
        "# from sqlalchemy import create_engine,text\n",
        "#-----------------------------------"
      ]
    },
    {
      "cell_type": "code",
      "source": [
        "user=\"sa\"\n",
        "password=\"SA@123\"\n",
        "server=\"Aditya123\\SQLSERVER22DEV\" # SELECT @@SERVERNAME;\n",
        "db=\"Local_DB\"\n",
        "# ms_sql_db_Engine = sqlalchemy.create_engine(f\"mssql+pyodbc://{user}:{password}@{server}/{db}?driver=ODBC+Driver+17+for+SQL+Server\",fast_executemany=True)\n",
        "ms_sql_db_Engine = sqlalchemy.create_engine(f\"mssql+pyodbc://{server}/{db}?driver=ODBC+Driver+17+for+SQL+Server\",fast_executemany=True)\n",
        "ms_sql_db_Connection = ms_sql_db_Engine.connect()\n",
        "\n",
        "#-----------------------------------\n",
        "ms_sql_db_Connection.close()\n",
        "ms_sql_db_Engine.dispose()\n",
        "#-----------------------------------"
      ],
      "metadata": {
        "id": "3ji6hHPhaxe2"
      },
      "execution_count": null,
      "outputs": []
    },
    {
      "cell_type": "code",
      "source": [
        "def ms_sql_db_Sonata():\n",
        "    #-----------------------------------\n",
        "    user=\"SFPL_Connect\"\n",
        "    password=\"$%n5bF33%X\"\n",
        "    server=\"172.17.130.216\"\n",
        "    db=\"Sonata_Connect\"\n",
        "    db=\"Sonata_Connect_Test\"\n",
        "    db=\"CRN_GEN\"\n",
        "    #-----------------------------------\n",
        "    ms_sql_db_Engine = sqlalchemy.create_engine(f\"mssql+pyodbc://{user}:{password}@{server}/{db}?driver=ODBC+Driver+17+for+SQL+Server\",fast_executemany=True)\n",
        "    ms_sql_db_Connection = ms_sql_db_Engine.connect()\n",
        "    #-----------------------------------\n",
        "    return ms_sql_db_Engine,ms_sql_db_Connection"
      ],
      "metadata": {
        "id": "TzSHl9URaJ0h"
      },
      "execution_count": null,
      "outputs": []
    },
    {
      "cell_type": "code",
      "source": [
        "def pg_sql_db_Markytics():\n",
        "    #-----------------------------------\n",
        "    user=\"postgres\"\n",
        "    password=\"Markytics1234\"\n",
        "    server=\"34.100.140.42\"\n",
        "    db=\"sonata_voicebot\"\n",
        "    #-----------------------------------\n",
        "    pg_sql_db_Engine = sqlalchemy.create_engine(f\"postgresql+psycopg2://{user}:{password}@{server}:5432/{db}\")\n",
        "    pg_sql_db_Connection = pg_sql_db_Engine.connect()\n",
        "    #-----------------------------------\n",
        "    return pg_sql_db_Engine,pg_sql_db_Connection"
      ],
      "metadata": {
        "id": "OZMXBM35aSP2"
      },
      "execution_count": null,
      "outputs": []
    },
    {
      "cell_type": "code",
      "source": [
        "# fetch records :\n",
        "sql_query=F'''\n",
        "SET NOCOUNT ON;\n",
        "EXEC SP_MappingCallingUsersToRegion @RegionID=1012, @UserID=17861;\n",
        "SET NOCOUNT OFF;\n",
        "'''\n",
        "df=pd.read_sql_query(sql_query,ms_sql_db_Engine);df"
      ],
      "metadata": {
        "id": "keQ7x-MvbAGl"
      },
      "execution_count": null,
      "outputs": []
    },
    {
      "cell_type": "code",
      "source": [
        "# fetch records :\n",
        "sql_query=F'''\n",
        "SELECT TOP 5 * FROM Day_Wise_Summarised_final;\n",
        "'''\n",
        "df=pd.read_sql_query(sql_query,ms_sql_db_Engine);df"
      ],
      "metadata": {
        "id": "pzRHyi4AbCQy"
      },
      "execution_count": null,
      "outputs": []
    },
    {
      "cell_type": "code",
      "source": [
        "# send records to DB :\n",
        "df.to_sql(name='table_name', con=ms_sql_db_Engine, index=False, if_exists='append', chunksize=10000)\n",
        "df.to_sql(name='table_name', con=ms_sql_db_Engine, index=False, if_exists='replace', chunksize=10000)"
      ],
      "metadata": {
        "id": "5Tlp4yNzbZ0c"
      },
      "execution_count": null,
      "outputs": []
    },
    {
      "cell_type": "code",
      "source": [
        "# DDL / DML in DB :\n",
        "try:\n",
        "    transaction = ms_sql_db_Connection.begin()\n",
        "    query = sqlalchemy.text('TRUNCATE TABLE Sonata_Connect..table_name;')\n",
        "    ms_sql_db_Connection.execute(query)\n",
        "    transaction.commit()\n",
        "except Exception as e:\n",
        "    print(f\"Error occurred: {e}\")\n",
        "    transaction.rollback()\n",
        "else:\n",
        "    print(\"Query executed successfully.\")\n",
        "finally:\n",
        "    transaction.close()\n",
        "    ms_sql_db_Connection.close()"
      ],
      "metadata": {
        "id": "QCkPSwoAbvmg"
      },
      "execution_count": null,
      "outputs": []
    },
    {
      "cell_type": "code",
      "source": [
        "# DDL / DML in DB :\n",
        "with ms_sql_db_Connection.begin():  # Automatically manages commit and rollback\n",
        "    query = sqlalchemy.text('TRUNCATE TABLE Sonata_Connect..table_name;')\n",
        "    ms_sql_db_Connection.execute(query)"
      ],
      "metadata": {
        "id": "lHKbNpVHdusq"
      },
      "execution_count": null,
      "outputs": []
    }
  ]
}